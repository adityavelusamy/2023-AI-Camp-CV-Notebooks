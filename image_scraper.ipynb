{
 "cells": [
  {
   "cell_type": "markdown",
   "metadata": {
    "colab_type": "text",
    "collapsed": false,
    "id": "view-in-github"
   },
   "source": [
    "<a href=\"https://colab.research.google.com/github/SelendisErised/Kirby-Detection/blob/main/serpapi_emp.ipynb\" target=\"_parent\"><img src=\"https://colab.research.google.com/assets/colab-badge.svg\" alt=\"Open In Colab\"/></a>"
   ]
  },
  {
   "cell_type": "markdown",
   "metadata": {
    "collapsed": false,
    "id": "n2U6LUSMFlfL"
   },
   "source": [
    "# Scrape and download Google Images with Python (Colab)"
   ]
  },
  {
   "cell_type": "markdown",
   "metadata": {
    "collapsed": false,
    "id": "Xz0KjvWWGNWZ"
   },
   "source": [
    "## Mount your drive"
   ]
  },
  {
   "cell_type": "code",
   "execution_count": 2,
   "metadata": {
    "colab": {
     "base_uri": "https://localhost:8080/"
    },
    "collapsed": false,
    "id": "NqNXGcvvFfWb",
    "outputId": "925bfcb7-6e7e-4516-da7a-87628aca48c2"
   },
   "outputs": [
    {
     "name": "stdout",
     "output_type": "stream",
     "text": [
      "Drive already mounted at /content/drive; to attempt to forcibly remount, call drive.mount(\"/content/drive\", force_remount=True).\n"
     ]
    }
   ],
   "source": [
    "# from google.colab import drive\n",
    "# drive.mount('/content/drive')"
   ]
  },
  {
   "cell_type": "markdown",
   "metadata": {
    "collapsed": false,
    "id": "bYsm15ZUFk1S"
   },
   "source": [
    "## Check your current working directory"
   ]
  },
  {
   "cell_type": "code",
   "execution_count": 1,
   "metadata": {
    "colab": {
     "base_uri": "https://localhost:8080/"
    },
    "collapsed": false,
    "id": "e07xgB9TGhiq",
    "outputId": "2a9a0f39-90ef-4424-9a28-e90e6f7b97e4"
   },
   "outputs": [
    {
     "name": "stdout",
     "output_type": "stream",
     "text": [
      "/projects/e837c3e3-b6eb-4269-bccf-8f5757acb9bf\n"
     ]
    }
   ],
   "source": [
    "# You could change the path\n",
    "import os\n",
    "\n",
    "\n",
    "# path = '/content/drive/MyDrive'\n",
    "# os.chdir(path)\n",
    "print(os.getcwd())"
   ]
  },
  {
   "cell_type": "markdown",
   "metadata": {
    "collapsed": false,
    "id": "AExJhmAFHJh4"
   },
   "source": [
    "## Install required dependencies"
   ]
  },
  {
   "cell_type": "code",
   "execution_count": 3,
   "metadata": {
    "colab": {
     "base_uri": "https://localhost:8080/"
    },
    "collapsed": false,
    "id": "lbrRVrodHOSk",
    "outputId": "226f36fd-67f2-4602-d58e-955a8ab19a40"
   },
   "outputs": [
    {
     "name": "stdout",
     "output_type": "stream",
     "text": [
      "/usr/bin/python: No module named pip\r\n"
     ]
    }
   ],
   "source": [
    "!python -m pip install google-search-results"
   ]
  },
  {
   "cell_type": "markdown",
   "metadata": {
    "collapsed": false,
    "id": "iZx88km1HQQ5"
   },
   "source": [
    "## Set searching information"
   ]
  },
  {
   "cell_type": "code",
   "execution_count": 20,
   "metadata": {
    "collapsed": false,
    "id": "QWaSon7XHbYG"
   },
   "outputs": [],
   "source": [
    "#User Constants\n",
    "image_name = \"sheep\"  # The content you want to search\n",
    "output_path = \"./SerpApi_Images_test/\"   # The name of the output dir\n",
    "page_to_search = 3\n",
    "api_key = \"17ea0196f2c52ecf630b39ef72cfd049b37a70eb28432facfbe398218f16fbab\"  # register in https://serpapi.com/, and get your api key"
   ]
  },
  {
   "cell_type": "code",
   "execution_count": 21,
   "metadata": {
    "collapsed": false,
    "id": "-AMxazLVI0Cl"
   },
   "outputs": [
    {
     "name": "stdout",
     "output_type": "stream",
     "text": [
      "https://serpapi.com/search\n"
     ]
    },
    {
     "name": "stdout",
     "output_type": "stream",
     "text": [
      "Downloading 0 image...\n",
      "https://i.swncdn.com/media/1200w/via/14521-lost-little-sheep-in-tall-grass-parable-of-th.jpg\n",
      "Downloading 1 image...\n",
      "https://learnnaturalfarming.com/wp-content/uploads/2020/02/Baby-Sheep-Called-e1580965316635.jpg\n",
      "Downloading 2 image...\n",
      "https://1g92472cqoiu485bu53vpy6c-wpengine.netdna-ssl.com/wp-content/uploads/sites/14/2019/08/lamb-edit-300x200.jpg\n"
     ]
    },
    {
     "name": "stdout",
     "output_type": "stream",
     "text": [
      "Downloading 3 image...\n",
      "https://www.trylamb.co.uk/getattachment/Blog/benefits-of-sheep-farming/Sheep-2.PNG\n"
     ]
    },
    {
     "name": "stdout",
     "output_type": "stream",
     "text": [
      "Error downloading image\n",
      "Downloading 4 image...\n",
      "https://media.4-paws.org/9/b/a/b/9bab9dc31879366bcf32622659a74f19af6aa70b/21992718_1500489133330778_4385975044197250387_o%20%281%29-1918x1328.jpg\n"
     ]
    },
    {
     "name": "stdout",
     "output_type": "stream",
     "text": [
      "Downloading 5 image...\n",
      "https://animalcorner.org/wp-content/uploads/2015/02/A-sheep.png\n"
     ]
    },
    {
     "name": "stdout",
     "output_type": "stream",
     "text": [
      "Downloading 6 image...\n",
      "https://cdn.akamai.steamstatic.com/steam/apps/259810/header.jpg?t=1571415187\n",
      "Downloading 7 image...\n",
      "https://rurallivingtoday.com/wp-content/uploads/difference-between-sheep-and-goats-2.jpeg\n",
      "Downloading 8 image...\n",
      "https://images-na.ssl-images-amazon.com/images/I/51m496GnlKL.jpg\n",
      "Downloading 9 image...\n",
      "https://www.raisingsheep.net/wp-content/uploads/2020/08/best-sheep-breeds-for-beginners.jpg\n"
     ]
    },
    {
     "name": "stdout",
     "output_type": "stream",
     "text": [
      "Downloading 10 image...\n",
      "https://cdn.difference101.com/wp-content/uploads/2020/11/lamb-vs-sheep-featured-image.jpg\n",
      "Downloading 11 image...\n",
      "https://eldersrural.com.au/wp-content/uploads/sites/3/2021/09/dence-flock-of-sheep.jpg\n"
     ]
    },
    {
     "name": "stdout",
     "output_type": "stream",
     "text": [
      "Downloading 12 image...\n",
      "https://cloudfront-us-east-1.images.arcpublishing.com/tgam/XKH2FI7P7BC7XIWBHD77DYTDDA.jpg\n"
     ]
    },
    {
     "name": "stdout",
     "output_type": "stream",
     "text": [
      "Downloading 13 image...\n",
      "https://www.terracestandard.com/wp-content/uploads/2021/01/23951108_web1_210120-SAA-Kantymir-Gin-sheep-mug.jpg\n"
     ]
    },
    {
     "name": "stdout",
     "output_type": "stream",
     "text": [
      "Downloading 14 image...\n",
      "https://nat.is/wp-content/uploads/2017/04/15144469474_0a1b08850a_k.jpg\n"
     ]
    },
    {
     "name": "stdout",
     "output_type": "stream",
     "text": [
      "Downloading 15 image...\n",
      "https://www.agrifarming.in/wp-content/uploads/2021/12/Sheep_Farming_Tips2-1024x683.jpg\n"
     ]
    },
    {
     "name": "stdout",
     "output_type": "stream",
     "text": [
      "Downloading 16 image...\n",
      "https://leekauctions.co.uk/wp-content/uploads/2021/08/Store-Sheep-Main-Photo-2-square.jpg\n",
      "Downloading 17 image...\n",
      "https://t3.ftcdn.net/jpg/03/43/93/36/360_F_343933614_fyMdMkcfYilXRDkYjlLF0Z5kJ6NNERZj.jpg\n",
      "Downloading 18 image...\n",
      "https://lookaside.fbsbx.com/lookaside/crawler/media/?media_id=10161723938737166\n"
     ]
    },
    {
     "name": "stdout",
     "output_type": "stream",
     "text": [
      "Downloading 19 image...\n",
      "https://seradria.com/wp-content/uploads/2020/06/sheep-for-sale.jpg\n"
     ]
    },
    {
     "name": "stdout",
     "output_type": "stream",
     "text": [
      "Downloading 20 image...\n",
      "https://static.wixstatic.com/media/581892_735e9a956b814c76a4e63d243c86df1b~mv2.jpg/v1/fill/w_314,h_282,al_c,q_90/581892_735e9a956b814c76a4e63d243c86df1b~mv2.jpg\n",
      "Downloading 21 image...\n",
      "https://emojipedia-us.s3.amazonaws.com/social/emoji/ewe.png\n",
      "Downloading 22 image...\n",
      "https://static.wikia.nocookie.net/shaunthesheep/images/e/eb/Shaun.png/revision/latest/top-crop/width/360/height/450?cb=20160427172317\n"
     ]
    },
    {
     "name": "stdout",
     "output_type": "stream",
     "text": [
      "Downloading 23 image...\n",
      "https://i.inews.co.uk/content/uploads/2018/04/blacnknosed-valis-sheep-1-e1523204475766-640x360.jpg\n",
      "Downloading 24 image...\n",
      "https://images.radiox.co.uk/images/63575?width=7220&crop=16_9&signature=9SbhU38yFCu-SyOABdRZBxugZ2U=\n"
     ]
    },
    {
     "name": "stdout",
     "output_type": "stream",
     "text": [
      "Downloading 25 image...\n",
      "https://static.dw.com/image/60864504_401.jpg\n"
     ]
    },
    {
     "name": "stdout",
     "output_type": "stream",
     "text": [
      "Downloading 26 image...\n",
      "https://jp-ct.co.uk/image/onecms:af584c22-1817-4a1b-84ed-442bc6dd987a/sheep%20general%201.jpg?width=640&quality=65&smart&enable=upscale\n"
     ]
    },
    {
     "name": "stdout",
     "output_type": "stream",
     "text": [
      "Downloading 27 image...\n",
      "https://www.ncsheep.com/wp-content/uploads/2021/01/NCSPA-Logo-1_edited-12-14-20_transparent-background.png\n"
     ]
    },
    {
     "name": "stdout",
     "output_type": "stream",
     "text": [
      "Downloading 28 image...\n",
      "https://cdn.siasat.com/wp-content/uploads/2019/08/Sheep-660x413.jpg\n"
     ]
    },
    {
     "name": "stdout",
     "output_type": "stream",
     "text": [
      "Downloading 29 image...\n",
      "https://www.nadis.org.uk/media/1346/053111_1248_nervousdise6.png?width=804&height=772\n"
     ]
    },
    {
     "name": "stdout",
     "output_type": "stream",
     "text": [
      "Downloading 30 image...\n",
      "https://petkeen.com/wp-content/uploads/2021/02/Texel-sheep-in-the-grass_Coatesy_Shutterstock.jpg\n"
     ]
    },
    {
     "name": "stdout",
     "output_type": "stream",
     "text": [
      "Downloading 31 image...\n",
      "https://www.yarnplaza.com/resize/sheep-2_5695012600838.jpg/0/1100/True/craft-bag-sheep-2.jpg\n"
     ]
    },
    {
     "name": "stdout",
     "output_type": "stream",
     "text": [
      "Downloading 32 image...\n",
      "https://static.scientificamerican.com/sciam/cache/file/722F90DD-D76F-41D9-9C6669A83807FD9A_source.jpg\n",
      "Downloading 33 image...\n",
      "x-raw-image:///7f547eeb3fe3528cd5fe28d7007f086dc7bda9b3ee1ba93f8f7bb8eb9749a71e\n",
      "Error downloading image\n",
      "Downloading 34 image...\n",
      "https://www.neogen.com/globalassets/images/industry-solution/marcom_industry-sheep-goat-genomic-testing_540x320_photo.jpg\n"
     ]
    },
    {
     "name": "stdout",
     "output_type": "stream",
     "text": [
      "Downloading 35 image...\n",
      "https://i2-prod.cornwalllive.com/incoming/article6741262.ece/ALTERNATES/s1200c/0_JS259361139.jpg\n"
     ]
    },
    {
     "name": "stdout",
     "output_type": "stream",
     "text": [
      "Downloading 36 image...\n",
      "https://www.afbini.gov.uk/sites/afbini.gov.uk/files/images/%5Bcurrent-domain%3Amachine-name%5D/news/NR19.09.323-1%201200.jpg\n"
     ]
    },
    {
     "name": "stdout",
     "output_type": "stream",
     "text": [
      "Downloading 37 image...\n",
      "https://defenders.org/sites/default/files/styles/meta_image/public/2019-04/bighorn_sheep_montana_megan_joyce_header_0.jpg?itok=MDHAieMR\n",
      "Downloading 38 image...\n",
      "https://www.aphis.usda.gov/wcm/connect/5e828deb-31fe-47f8-9d3e-c6a784092b43/1/sheep-infobox.jpg?MOD=AJPERES&CVID=\n"
     ]
    },
    {
     "name": "stdout",
     "output_type": "stream",
     "text": [
      "Downloading 39 image...\n",
      "https://cdn.britannica.com/36/536-050-50DDB859/Southdown-ram.jpg\n"
     ]
    },
    {
     "name": "stdout",
     "output_type": "stream",
     "text": [
      "Downloading 40 image...\n",
      "https://www.washingtonpost.com/wp-apps/imrs.php?src=http://img.washingtonpost.com/rf/image_908w/2010-2019/Wires/Images/2015-09-03/Bloomberg/04909999.jpg&w=1200\n"
     ]
    },
    {
     "name": "stdout",
     "output_type": "stream",
     "text": [
      "Error downloading image\n",
      "Downloading 41 image...\n",
      "https://dolly.roslin.ed.ac.uk/wp-content/uploads/2016/01/Dolly-and-surrogate-mother-252x300.jpg\n"
     ]
    },
    {
     "name": "stdout",
     "output_type": "stream",
     "text": [
      "Downloading 42 image...\n",
      "https://media.istockphoto.com/photos/sheep-isolated-on-white-picture-id515048563?k=20&m=515048563&s=612x612&w=0&h=NmAmKPralexo7Fhq-K7ufSDt63botnfWlHISffRI9oQ=\n",
      "Downloading 43 image...\n",
      "https://www.sheepusa.org/wp-content/uploads/2021/10/November-2021-SIN-cover-small.jpg\n"
     ]
    },
    {
     "name": "stdout",
     "output_type": "stream",
     "text": [
      "Downloading 44 image...\n",
      "https://pbs.twimg.com/media/FUR5KJhWYAA2lfn.jpg\n",
      "Downloading 45 image...\n",
      "https://site-547756.mozfiles.com/files/547756/medium/sheep-1585266.jpg\n"
     ]
    },
    {
     "name": "stdout",
     "output_type": "stream",
     "text": [
      "Downloading 46 image...\n",
      "https://dynamic-media-cdn.tripadvisor.com/media/photo-o/01/e4/29/69/sheep-racing.jpg?w=1200&h=1200&s=1\n"
     ]
    },
    {
     "name": "stdout",
     "output_type": "stream",
     "text": [
      "Error downloading image\n",
      "Downloading 47 image...\n",
      "https://images.csmonitor.com/csm/2022/03/0328-DDP-CHURRO-sheep-closeup.jpg?alias=standard_900x600\n"
     ]
    },
    {
     "name": "stdout",
     "output_type": "stream",
     "text": [
      "Downloading 48 image...\n",
      "https://store-images.s-microsoft.com/image/apps.29334.14175477857751565.95564e71-4eca-42bc-9eb6-4e3d8b019b52.c2b40efe-62bb-4cd2-b5e4-fe1f54c55d01?q=90&w=480&h=270\n"
     ]
    },
    {
     "name": "stdout",
     "output_type": "stream",
     "text": [
      "Downloading 49 image...\n",
      "https://www.msd-animal-health.co.nz/wp-content/uploads/sites/39/2021/02/sheep.jpg\n"
     ]
    },
    {
     "name": "stdout",
     "output_type": "stream",
     "text": [
      "Downloading 50 image...\n",
      "https://savvyfarmlife.com/wp-content/uploads/2021/02/lamb-copy.jpg\n",
      "Downloading 51 image...\n",
      "https://www.agric.wa.gov.au/sites/gateway/files/styles/page_featured_image/public/hoggets-in-feedlot.jpg?itok=JSN7Gqc2&c=1c77923b926c825eab5dd67c89c90ebb\n"
     ]
    },
    {
     "name": "stdout",
     "output_type": "stream",
     "text": [
      "Error downloading image\n",
      "Downloading 52 image...\n",
      "https://www.conchovalleyhomepage.com/wp-content/uploads/sites/83/2022/06/thumbnail_SheepRevalRailPNG.png?w=1280\n"
     ]
    },
    {
     "name": "stdout",
     "output_type": "stream",
     "text": [
      "Downloading 53 image...\n",
      "https://www.euractiv.com/wp-content/uploads/sites/2/2019/11/Hahnel-800x450.jpg\n"
     ]
    },
    {
     "name": "stdout",
     "output_type": "stream",
     "text": [
      "Downloading 54 image...\n",
      "https://www.thoughtco.com/thmb/Wn0M92ciqV2T3IFL3xYL9r0Atf8=/3412x3412/smart/filters:no_upscale()/european-mouflon-ovis-orientalis-musimon-male-in-a-snowy-winter-landscape-130859081-5804c44c3df78cbc2864b13b.jpg\n"
     ]
    },
    {
     "name": "stdout",
     "output_type": "stream",
     "text": [
      "Downloading 55 image...\n",
      "https://www.sandersfodder.com.au/wp-content/uploads/2021/04/sanders-fodder-feed-supplies-sheep-lambs-suffolks.jpg\n"
     ]
    },
    {
     "name": "stdout",
     "output_type": "stream",
     "text": [
      "Downloading 56 image...\n",
      "https://globalanimalpartnership.org/wp-content/uploads/2016/08/adrian-infernus-UZN5M63zBWg-unsplash-scaled-e1626934213943-300x300.jpg\n"
     ]
    },
    {
     "name": "stdout",
     "output_type": "stream",
     "text": [
      "Downloading 57 image...\n",
      "https://u.osu.edu/sheep/files/2022/06/2021-OARDC-ewes-grazing-in-the-fall-225x300.jpg\n"
     ]
    },
    {
     "name": "stdout",
     "output_type": "stream",
     "text": [
      "Downloading 58 image...\n",
      "https://stmaaprodfwsite.blob.core.windows.net/assets/sites/1/2022/03/LEAD-PIC-Ewes-and-lambs-a-couple-of-days-old.-Texel-cross-ewes-to-Texel-March-2022-c-Michael-Priestley.jpg\n"
     ]
    },
    {
     "name": "stdout",
     "output_type": "stream",
     "text": [
      "Downloading 59 image...\n",
      "https://cloudfront-us-east-2.images.arcpublishing.com/reuters/5QQFLS26P5IK3CFAMOSGDKQNMA.jpg\n"
     ]
    },
    {
     "name": "stdout",
     "output_type": "stream",
     "text": [
      "Downloading 60 image...\n",
      "https://i.ytimg.com/vi/fJBYhPWeYqc/maxresdefault.jpg\n",
      "Downloading 61 image...\n",
      "https://s3-us-west-2.amazonaws.com/melingoimages/Images/86116.jpg\n"
     ]
    },
    {
     "name": "stdout",
     "output_type": "stream",
     "text": [
      "Downloading 62 image...\n",
      "https://www.ifa.ie/wp-content/uploads/2020/01/sheep-1.jpg\n"
     ]
    },
    {
     "name": "stdout",
     "output_type": "stream",
     "text": [
      "Downloading 63 image...\n",
      "https://www.iga-goatworld.com/uploads/6/1/6/2/6162024/palas-dairy-male_orig.jpg\n",
      "Downloading 64 image...\n",
      "https://media.gettyimages.com/photos/studio-cut-out-of-a-sheep-picture-iddv1637031?s=612x612\n"
     ]
    },
    {
     "name": "stdout",
     "output_type": "stream",
     "text": [
      "Downloading 65 image...\n",
      "https://i.hurimg.com/i/hdn/75/0x0/5a843d98c03c0e2108297515.jpg\n"
     ]
    },
    {
     "name": "stdout",
     "output_type": "stream",
     "text": [
      "Downloading 66 image...\n",
      "https://www.foxandsheep.com/wp-content/uploads/2019/01/FAQ_Sheep-e1547564755323.png\n"
     ]
    },
    {
     "name": "stdout",
     "output_type": "stream",
     "text": [
      "Downloading 67 image...\n",
      "https://qph.cf2.quoracdn.net/main-qimg-b1ddd69f6714902bbb1b1ddaab35634a-lq\n",
      "Downloading 68 image...\n",
      "https://i2-prod.walesonline.co.uk/incoming/article21710620.ece/ALTERNATES/s1200b/1_Lily-the-forgotten-sheep-thats-been-wandering-around-Gower-totally-alone-for-years.jpg\n"
     ]
    },
    {
     "name": "stdout",
     "output_type": "stream",
     "text": [
      "Downloading 69 image...\n",
      "https://www.slowfood.com/wp-content/uploads/2019/06/SF0281449.jpg\n"
     ]
    },
    {
     "name": "stdout",
     "output_type": "stream",
     "text": [
      "Downloading 70 image...\n",
      "https://www.ucd.ie/lyonsfarm/t4media/SheepResearch.jpg\n"
     ]
    },
    {
     "name": "stdout",
     "output_type": "stream",
     "text": [
      "Downloading 71 image...\n",
      "https://www.alimentarium.org/sites/default/files/media/image/2016-09/Alimentarium%20mouton_Nouvelle-Z%C3%A9lande_111147020%20web_0.png\n"
     ]
    },
    {
     "name": "stdout",
     "output_type": "stream",
     "text": [
      "Downloading 72 image...\n",
      "https://eldersrural.com.au/wp-content/uploads/sites/3/2021/06/zoetis-sheep.jpg\n",
      "Downloading 73 image...\n",
      "https://lh6.ggpht.com/-zM-IXNEot0o/U8-ll6pXJUI/AAAAAAAA0YA/NEh4LQUsKro/w600-h314-p-k-no-nu/shrek-the-sheep-1%25255B6%25255D.jpg?imgmax=800\n",
      "Downloading 74 image...\n",
      "https://wp-assets.futurism.com/2022/02/bionic-eyes-sheep-humans.jpg\n"
     ]
    },
    {
     "name": "stdout",
     "output_type": "stream",
     "text": [
      "Downloading 75 image...\n",
      "https://cdn.pixabay.com/photo/2020/02/01/14/48/sheep-4810513__340.jpg\n"
     ]
    },
    {
     "name": "stdout",
     "output_type": "stream",
     "text": [
      "Downloading 76 image...\n",
      "https://static.wixstatic.com/media/28c57f_ce98d6cd46a34eebbfdd5a2525db3d4a~mv2.jpg/v1/fill/w_640,h_400,al_c,q_80,usm_0.66_1.00_0.01,enc_auto/28c57f_ce98d6cd46a34eebbfdd5a2525db3d4a~mv2.jpg\n"
     ]
    },
    {
     "name": "stdout",
     "output_type": "stream",
     "text": [
      "Downloading 77 image...\n",
      "https://www.davidsonsfeeds.co.uk/wp-content/uploads/2021/05/Sheep-roughmix-400x250.jpg\n"
     ]
    },
    {
     "name": "stdout",
     "output_type": "stream",
     "text": [
      "Downloading 78 image...\n",
      "https://vvwalsh.com.au/wp-content/uploads/2019/10/Products_SheepRunners.jpg\n"
     ]
    },
    {
     "name": "stdout",
     "output_type": "stream",
     "text": [
      "Downloading 79 image...\n",
      "https://th-thumbnailer.cdn-si-edu.com/Bc-HwDRwxUWProKOgJWNJG6Nr08=/fit-in/1600x0/https://tf-cmsv2-smithsonianmag-media.s3.amazonaws.com/filer/84/b8/84b87049-cf14-4a67-8a0e-b8877ffa9e0e/lamb_edit.jpg\n"
     ]
    },
    {
     "name": "stdout",
     "output_type": "stream",
     "text": [
      "Downloading 80 image...\n",
      "https://www.treehugger.com/thmb/NZXRl85dO78mLHIEPwBjlsessSc=/3240x2160/filters:no_upscale():max_bytes(150000):strip_icc()/how-to-raise-sheep-3016859-12-c961e0b2b5524f1c842cf20990548fd4.jpg\n",
      "Downloading 81 image...\n",
      "https://images.ladbible.com/resize?type=jpeg&quality=70&width=720&fit=pad&dpr=1&url=https://eu-images.contentstack.com/v3/assets/bltcd74acc1d0a99f3a/blte73d7e027311fe0f/628c13e5fd9c4c0fc15cdd6d/Copy_of_Unnamed_Design_(24).png\n"
     ]
    },
    {
     "name": "stdout",
     "output_type": "stream",
     "text": [
      "Downloading 82 image...\n",
      "https://yukonwildlife.ca/wp-content/uploads/2020/11/Sheep-Rams-Winter-2020-YWP-Lindsay-Caskenette-banner-1080x675.jpg\n"
     ]
    },
    {
     "name": "stdout",
     "output_type": "stream",
     "text": [
      "Downloading 83 image...\n",
      "https://static.wixstatic.com/media/7dd0c4_840375a1e49445c99fc0d7ce77920ba1~mv2.jpg/v1/fill/w_1000,h_1250,al_c,q_90,usm_0.66_1.00_0.01/7dd0c4_840375a1e49445c99fc0d7ce77920ba1~mv2.jpg\n"
     ]
    },
    {
     "name": "stdout",
     "output_type": "stream",
     "text": [
      "Downloading 84 image...\n",
      "https://lingopolo.org/thai/sites/lingopolo.org.thai/files/styles/entry/public/images/2016/12/10/sheep.jpg\n"
     ]
    },
    {
     "name": "stdout",
     "output_type": "stream",
     "text": [
      "Downloading 85 image...\n",
      "https://nutrias.ie/wp-content/uploads/2020/12/lamb-hr.jpg\n"
     ]
    },
    {
     "name": "stdout",
     "output_type": "stream",
     "text": [
      "Downloading 86 image...\n",
      "https://www.acs.edu.au/database/images/course_3313323.jpg\n"
     ]
    },
    {
     "name": "stdout",
     "output_type": "stream",
     "text": [
      "Downloading 87 image...\n",
      "https://animalcare.folio3.com/wp-content/uploads/2020/04/Lamb-vs-Sheep-Comparison-1280x720.jpg\n",
      "Downloading 88 image...\n",
      "https://www.hillwalktours.com/wp-content/uploads/blog-images/media_library_export-walking_hiking_blog-2021_09_28_09_17_18/irish-hiking-trail-sheep-ocean.png\n",
      "Downloading 89 image...\n",
      "https://foodispower.org/wp-content/uploads/2019/01/sheep-225x300.jpg\n"
     ]
    },
    {
     "name": "stdout",
     "output_type": "stream",
     "text": [
      "Downloading 90 image...\n",
      "https://img.tapimg.com/market/lcs/b9f3310226895c26338c46a19c173d7e_360.png?imageMogr2/auto-orient/strip\n"
     ]
    },
    {
     "name": "stdout",
     "output_type": "stream",
     "text": [
      "Downloading 91 image...\n",
      "https://i.insider.com/55e71b209dd7cc1b008b7a46?width=1000&format=jpeg&auto=webp\n",
      "Downloading 92 image...\n",
      "https://www.farmersweekly.co.za/app/uploads/2021/11/lamb-care.jpg\n"
     ]
    },
    {
     "name": "stdout",
     "output_type": "stream",
     "text": [
      "Downloading 93 image...\n",
      "https://www.simpleeverydaymom.com/wp-content/uploads/2019/01/sheep-easter-craft-for-kids-pin-image.jpg.webp\n"
     ]
    },
    {
     "name": "stdout",
     "output_type": "stream",
     "text": [
      "Downloading 94 image...\n",
      "https://4-hontario.ca/wp-content/uploads/2020/09/Sheep_Main-Image-1654x1080.jpg\n"
     ]
    },
    {
     "name": "stdout",
     "output_type": "stream",
     "text": [
      "Downloading 95 image...\n",
      "https://img.atlasobscura.com/RWIdRA9d-TFUHIfzmdght_13Q3FlCedebtr3WZCYjGs/rs:fill:12000:12000/q:81/sm:1/scp:1/ar:1/aHR0cHM6Ly9hdGxh/cy1kZXYuczMuYW1h/em9uYXdzLmNvbS91/cGxvYWRzL2Fzc2V0/cy8wYTQwYjZlNS0y/MjE1LTQ0YjItOWEz/YS00Yzc4YzRjYjhj/NDY3ZGQxMmIzMzQ0/MjgwODM3ZjZfQnJl/YmlzX0JhcmJhcmlu/ZS5KUEc.jpg\n"
     ]
    },
    {
     "name": "stdout",
     "output_type": "stream",
     "text": [
      "Downloading 96 image...\n",
      "https://miniart-models.com/wp-content/uploads/2021/06/38042_art.jpg\n"
     ]
    },
    {
     "name": "stdout",
     "output_type": "stream",
     "text": [
      "Downloading 97 image...\n",
      "https://kubrick.htvapps.com/htv-prod-media.s3.amazonaws.com/images/sheep-shearing-1654186125.jpg?crop=1.00xw:1.00xh;0,0&resize=1200:*\n",
      "Downloading 98 image...\n",
      "https://live-production.wcms.abc-cdn.net.au/1c8ddf6517224927fa2d730302da0170?impolicy=wcms_crop_resize&cropH=1688&cropW=3000&xPos=0&yPos=0&width=862&height=485\n"
     ]
    },
    {
     "name": "stdout",
     "output_type": "stream",
     "text": [
      "Downloading 99 image...\n",
      "http://www.sheep101.info/201/Images/sheep201newlogo..jpg\n"
     ]
    }
   ],
   "source": [
    "import os, urllib.request, json  # json for pretty output\n",
    "from serpapi import GoogleSearch\n",
    "\n",
    "\n",
    "def get_google_images():\n",
    "    params = {\n",
    "        \"api_key\": api_key,\n",
    "        \"engine\": \"google\",\n",
    "        \"q\": image_name,\n",
    "        \"tbm\": \"isch\",\n",
    "        \"ijn\": str(page_to_search),\n",
    "    }\n",
    "\n",
    "    search = GoogleSearch(params)\n",
    "    results = search.get_dict()\n",
    "\n",
    "    try:\n",
    "      json.dumps(results[\"images_results\"], indent=2, ensure_ascii=False)\n",
    "    except: \n",
    "      print(\"No images found\")\n",
    "      return\n",
    "\n",
    "\n",
    "    if not os.path.exists(output_path):\n",
    "        os.makedirs(output_path)\n",
    "\n",
    "    # -----------------------\n",
    "    # Downloading images\n",
    "\n",
    "    opener = urllib.request.build_opener()\n",
    "    opener.addheaders = [\n",
    "        (\n",
    "            \"User-Agent\",\n",
    "            \"Mozilla/5.0 (Windows NT 10.0; Win64; x64) AppleWebKit/537.36 (KHTML, like Gecko) Chrome/70.0.3538.102 Safari/537.36 Edge/18.19582\",\n",
    "        )\n",
    "    ]\n",
    "    urllib.request.install_opener(opener)\n",
    "\n",
    "    filenum = 1\n",
    "    for index, image in enumerate(results[\"images_results\"]):\n",
    "\n",
    "        print(f\"Downloading {index} image...\")\n",
    "\n",
    "        filepath = os.path.join(output_path, params[\"q\"] + str(filenum) + \".jpg\")\n",
    "        print(image[\"original\"])\n",
    "        \n",
    "        try:\n",
    "          response = urllib.request.urlopen(image[\"original\"], timeout=10)\n",
    "        except:\n",
    "          print(\"Error downloading image\")\n",
    "          continue\n",
    "        image = response.read()\n",
    "\n",
    "        with open(filepath, \"wb\") as file:\n",
    "            file.write(image)\n",
    "        filenum += 1\n",
    "      \n",
    "get_google_images()"
   ]
  }
 ],
 "metadata": {
  "colab": {
   "authorship_tag": "ABX9TyMnIoVvZ9Djeaij2VUYZHaQ",
   "include_colab_link": true,
   "name": "serpapi_emp.ipynb",
   "provenance": []
  },
  "kernelspec": {
   "display_name": "Python 3",
   "language": "python",
   "name": "python3"
  },
  "language_info": {
   "codemirror_mode": {
    "name": "ipython",
    "version": 3
   },
   "file_extension": ".py",
   "mimetype": "text/x-python",
   "name": "python",
   "nbconvert_exporter": "python",
   "pygments_lexer": "ipython3",
   "version": "3.10.7"
  },
  "vscode": {
   "interpreter": {
    "hash": "b0fa6594d8f4cbf19f97940f81e996739fb7646882a419484c72d19e05852a7e"
   }
  }
 },
 "nbformat": 4,
 "nbformat_minor": 4
}
